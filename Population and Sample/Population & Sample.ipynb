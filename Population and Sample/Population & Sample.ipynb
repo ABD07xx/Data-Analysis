{
 "cells": [
  {
   "cell_type": "markdown",
   "metadata": {},
   "source": [
    "## Population \n",
    "A complete collection of the objects or measurements is called the population or else everything in the group we want to learn about will be termed as population"
   ]
  },
  {
   "cell_type": "markdown",
   "metadata": {},
   "source": [
    "### Example\n",
    "`Population of Numbers `"
   ]
  },
  {
   "cell_type": "code",
   "execution_count": 22,
   "metadata": {},
   "outputs": [],
   "source": [
    "import random\n",
    "import numpy as np"
   ]
  },
  {
   "cell_type": "markdown",
   "metadata": {},
   "source": [
    "### List of 1000 numbers"
   ]
  },
  {
   "cell_type": "code",
   "execution_count": 27,
   "metadata": {},
   "outputs": [
    {
     "name": "stdout",
     "output_type": "stream",
     "text": [
      "1000\n"
     ]
    }
   ],
   "source": [
    "list_1 = []\n",
    "for i in range(1000):\n",
    "    list_1.append(random.randint(0,1001))\n",
    "print(len(list_1))"
   ]
  },
  {
   "cell_type": "markdown",
   "metadata": {},
   "source": [
    "## Taking a sample from list_1\n",
    "* Using ` sample ` function"
   ]
  },
  {
   "cell_type": "code",
   "execution_count": 29,
   "metadata": {},
   "outputs": [
    {
     "name": "stdout",
     "output_type": "stream",
     "text": [
      "Random numbers from list is: [355, 967, 964, 354, 753, 965, 178, 258, 969, 443, 243, 954, 880, 634, 561, 326, 168, 861, 197, 196, 327, 118, 975, 617, 218, 363, 798, 842, 585, 357, 211, 421, 416, 338, 575, 650, 308, 571, 297, 614, 588, 949, 960, 853, 709, 941, 522, 452, 918, 331]\n"
     ]
    }
   ],
   "source": [
    "res = random.sample(range(0,1001), 50)\n",
    "# 50 here specifies the number of samples to be taken from list\n",
    "print(\"Random numbers from list is: \" + str(res))"
   ]
  },
  {
   "cell_type": "code",
   "execution_count": 33,
   "metadata": {},
   "outputs": [
    {
     "name": "stdout",
     "output_type": "stream",
     "text": [
      "With list: [4, 5, 2]\n",
      "With string: ['k', 'o', 'G', 'r']\n",
      "With tuple: ['btech', 'portal', 'geeks', 'scientist']\n",
      "With set: ['b', 'e', 'c']\n"
     ]
    }
   ],
   "source": [
    "# Python3 program to demonstrate\n",
    "# the use of sample() function .\n",
    "  \n",
    "# import random \n",
    "import random\n",
    "  \n",
    "  \n",
    "# Prints list of random items of\n",
    "# length 3 from the given list.\n",
    "list1 = [1, 2, 3, 4, 5, 6] \n",
    "print(\"With list:\", random.sample(list1, 3))\n",
    "  \n",
    "# Prints list of random items of\n",
    "# length 4 from the given string. \n",
    "string = \"GeeksforGeeks\"\n",
    "print(\"With string:\", random.sample(string, 4))\n",
    "  \n",
    "# Prints list of random items of\n",
    "# length 4 from the given tuple.\n",
    "tuple1 = (\"ankit\", \"geeks\", \"computer\", \"science\",\n",
    "                   \"portal\", \"scientist\", \"btech\")\n",
    "print(\"With tuple:\", random.sample(tuple1, 4))\n",
    "  \n",
    "  \n",
    "# Prints list of random items of\n",
    "# length 3 from the given set.\n",
    "set1 = {\"a\", \"b\", \"c\", \"d\", \"e\"}\n",
    "print(\"With set:\", random.sample(set1, 3))"
   ]
  }
 ],
 "metadata": {
  "kernelspec": {
   "display_name": "Python 3",
   "language": "python",
   "name": "python3"
  },
  "language_info": {
   "codemirror_mode": {
    "name": "ipython",
    "version": 3
   },
   "file_extension": ".py",
   "mimetype": "text/x-python",
   "name": "python",
   "nbconvert_exporter": "python",
   "pygments_lexer": "ipython3",
   "version": "3.8.5"
  }
 },
 "nbformat": 4,
 "nbformat_minor": 4
}
