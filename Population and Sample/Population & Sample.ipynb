{
 "cells": [
  {
   "cell_type": "markdown",
   "metadata": {},
   "source": [
    "## Population \n",
    "A complete collection of the objects or measurements is called the population or else everything in the group we want to learn about will be termed as population"
   ]
  },
  {
   "cell_type": "markdown",
   "metadata": {},
   "source": [
    "### Example\n",
    "`Population of Numbers `"
   ]
  },
  {
   "cell_type": "code",
   "execution_count": 7,
   "metadata": {},
   "outputs": [],
   "source": [
    "import random\n",
    "import numpy as np\n",
    "import pandas as pd"
   ]
  },
  {
   "cell_type": "markdown",
   "metadata": {},
   "source": [
    "### List of 1000 numbers"
   ]
  },
  {
   "cell_type": "code",
   "execution_count": 2,
   "metadata": {},
   "outputs": [
    {
     "name": "stdout",
     "output_type": "stream",
     "text": [
      "1000\n"
     ]
    }
   ],
   "source": [
    "list_1 = []\n",
    "for i in range(1000):\n",
    "    list_1.append(random.randint(0,1001))\n",
    "print(len(list_1))"
   ]
  },
  {
   "cell_type": "markdown",
   "metadata": {},
   "source": [
    "## Taking random samples from list_1\n",
    "* Using ` sample ` function"
   ]
  },
  {
   "cell_type": "code",
   "execution_count": 3,
   "metadata": {},
   "outputs": [
    {
     "name": "stdout",
     "output_type": "stream",
     "text": [
      "Random numbers from list is: [296, 737, 589, 783, 730, 745, 82, 552, 356, 637, 355, 851, 294, 416, 473, 477, 175, 804, 985, 167, 537, 93, 602, 859, 427, 561, 225, 458, 182, 435, 279, 555, 277, 861, 722, 931, 170, 935, 399, 635, 126, 87, 527, 810, 965, 269, 819, 147, 686, 278]\n"
     ]
    }
   ],
   "source": [
    "res = random.sample(range(0,1001), 50)\n",
    "# 50 here specifies the number of samples to be taken from list\n",
    "print(\"Random numbers from list is: \" + str(res))"
   ]
  },
  {
   "cell_type": "code",
   "execution_count": 4,
   "metadata": {},
   "outputs": [
    {
     "name": "stdout",
     "output_type": "stream",
     "text": [
      "With list: [2, 5, 6]\n",
      "With string: ['e', 'e', 'k', 'G']\n",
      "With tuple: ['science', 'ankit', 'scientist', 'computer']\n",
      "With set: ['a', 'e', 'd']\n"
     ]
    }
   ],
   "source": [
    "import random\n",
    "  \n",
    "  \n",
    "# Prints list of random items of\n",
    "# length 3 from the given list.\n",
    "list1 = [1, 2, 3, 4, 5, 6] \n",
    "print(\"With list:\", random.sample(list1, 3))\n",
    "  \n",
    "# Prints list of random items of\n",
    "# length 4 from the given string. \n",
    "string = \"GeeksforGeeks\"\n",
    "print(\"With string:\", random.sample(string, 4))\n",
    "  \n",
    "# Prints list of random items of\n",
    "# length 4 from the given tuple.\n",
    "tuple1 = (\"ankit\", \"geeks\", \"computer\", \"science\",\n",
    "                   \"portal\", \"scientist\", \"btech\")\n",
    "print(\"With tuple:\", random.sample(tuple1, 4))\n",
    "  \n",
    "  \n",
    "# Prints list of random items of\n",
    "# length 3 from the given set.\n",
    "set1 = {\"a\", \"b\", \"c\", \"d\", \"e\"}\n",
    "print(\"With set:\", random.sample(set1, 3))"
   ]
  },
  {
   "cell_type": "markdown",
   "metadata": {},
   "source": [
    "### Systematic Sampling"
   ]
  },
  {
   "cell_type": "code",
   "execution_count": 15,
   "metadata": {
    "scrolled": false
   },
   "outputs": [
    {
     "data": {
      "text/html": [
       "<div>\n",
       "<style scoped>\n",
       "    .dataframe tbody tr th:only-of-type {\n",
       "        vertical-align: middle;\n",
       "    }\n",
       "\n",
       "    .dataframe tbody tr th {\n",
       "        vertical-align: top;\n",
       "    }\n",
       "\n",
       "    .dataframe thead th {\n",
       "        text-align: right;\n",
       "    }\n",
       "</style>\n",
       "<table border=\"1\" class=\"dataframe\">\n",
       "  <thead>\n",
       "    <tr style=\"text-align: right;\">\n",
       "      <th></th>\n",
       "      <th>Id</th>\n",
       "      <th>height</th>\n",
       "    </tr>\n",
       "  </thead>\n",
       "  <tbody>\n",
       "    <tr>\n",
       "      <th>0</th>\n",
       "      <td>1</td>\n",
       "      <td>159</td>\n",
       "    </tr>\n",
       "    <tr>\n",
       "      <th>1</th>\n",
       "      <td>2</td>\n",
       "      <td>171</td>\n",
       "    </tr>\n",
       "    <tr>\n",
       "      <th>2</th>\n",
       "      <td>3</td>\n",
       "      <td>158</td>\n",
       "    </tr>\n",
       "    <tr>\n",
       "      <th>3</th>\n",
       "      <td>4</td>\n",
       "      <td>162</td>\n",
       "    </tr>\n",
       "    <tr>\n",
       "      <th>4</th>\n",
       "      <td>5</td>\n",
       "      <td>162</td>\n",
       "    </tr>\n",
       "    <tr>\n",
       "      <th>5</th>\n",
       "      <td>6</td>\n",
       "      <td>177</td>\n",
       "    </tr>\n",
       "    <tr>\n",
       "      <th>6</th>\n",
       "      <td>7</td>\n",
       "      <td>160</td>\n",
       "    </tr>\n",
       "    <tr>\n",
       "      <th>7</th>\n",
       "      <td>8</td>\n",
       "      <td>175</td>\n",
       "    </tr>\n",
       "    <tr>\n",
       "      <th>8</th>\n",
       "      <td>9</td>\n",
       "      <td>68</td>\n",
       "    </tr>\n",
       "    <tr>\n",
       "      <th>9</th>\n",
       "      <td>10</td>\n",
       "      <td>171</td>\n",
       "    </tr>\n",
       "    <tr>\n",
       "      <th>10</th>\n",
       "      <td>11</td>\n",
       "      <td>178</td>\n",
       "    </tr>\n",
       "    <tr>\n",
       "      <th>11</th>\n",
       "      <td>12</td>\n",
       "      <td>178</td>\n",
       "    </tr>\n",
       "    <tr>\n",
       "      <th>12</th>\n",
       "      <td>13</td>\n",
       "      <td>173</td>\n",
       "    </tr>\n",
       "    <tr>\n",
       "      <th>13</th>\n",
       "      <td>14</td>\n",
       "      <td>177</td>\n",
       "    </tr>\n",
       "    <tr>\n",
       "      <th>14</th>\n",
       "      <td>15</td>\n",
       "      <td>164</td>\n",
       "    </tr>\n",
       "  </tbody>\n",
       "</table>\n",
       "</div>"
      ],
      "text/plain": [
       "    Id  height\n",
       "0    1     159\n",
       "1    2     171\n",
       "2    3     158\n",
       "3    4     162\n",
       "4    5     162\n",
       "5    6     177\n",
       "6    7     160\n",
       "7    8     175\n",
       "8    9      68\n",
       "9   10     171\n",
       "10  11     178\n",
       "11  12     178\n",
       "12  13     173\n",
       "13  14     177\n",
       "14  15     164"
      ]
     },
     "metadata": {},
     "output_type": "display_data"
    }
   ],
   "source": [
    "\n",
    "# Define total number of students\n",
    "number_of_students = 15\n",
    "\n",
    "# Create data dictionary\n",
    "data = {'Id': np.arange(1, number_of_students+1).tolist(),\n",
    "        'height': [159, 171, 158, 162, 162, 177, 160, 175,68, 171, 178, 178, 173, 177, 164]}\n",
    "\n",
    "# Transform dictionary into a data frame\n",
    "df = pd.DataFrame(data)\n",
    "\n",
    "display(df)\n",
    "\n",
    "# Define systematic sampling function\n",
    "def systematic_sampling(df, step):\n",
    "\n",
    "    indexes = np.arange(0, len(df), step=step)\n",
    "    systematic_sample = df.iloc[indexes]\n",
    "    return systematic_sample\n",
    "\n",
    "\n",
    "# Obtain a systematic sample and save it in a new variable\n",
    "systematic_sample = systematic_sampling(df, 3)\n"
   ]
  },
  {
   "cell_type": "code",
   "execution_count": 17,
   "metadata": {},
   "outputs": [
    {
     "data": {
      "text/html": [
       "<div>\n",
       "<style scoped>\n",
       "    .dataframe tbody tr th:only-of-type {\n",
       "        vertical-align: middle;\n",
       "    }\n",
       "\n",
       "    .dataframe tbody tr th {\n",
       "        vertical-align: top;\n",
       "    }\n",
       "\n",
       "    .dataframe thead th {\n",
       "        text-align: right;\n",
       "    }\n",
       "</style>\n",
       "<table border=\"1\" class=\"dataframe\">\n",
       "  <thead>\n",
       "    <tr style=\"text-align: right;\">\n",
       "      <th></th>\n",
       "      <th>Id</th>\n",
       "      <th>height</th>\n",
       "    </tr>\n",
       "  </thead>\n",
       "  <tbody>\n",
       "    <tr>\n",
       "      <th>0</th>\n",
       "      <td>1</td>\n",
       "      <td>159</td>\n",
       "    </tr>\n",
       "    <tr>\n",
       "      <th>3</th>\n",
       "      <td>4</td>\n",
       "      <td>162</td>\n",
       "    </tr>\n",
       "    <tr>\n",
       "      <th>6</th>\n",
       "      <td>7</td>\n",
       "      <td>160</td>\n",
       "    </tr>\n",
       "    <tr>\n",
       "      <th>9</th>\n",
       "      <td>10</td>\n",
       "      <td>171</td>\n",
       "    </tr>\n",
       "    <tr>\n",
       "      <th>12</th>\n",
       "      <td>13</td>\n",
       "      <td>173</td>\n",
       "    </tr>\n",
       "  </tbody>\n",
       "</table>\n",
       "</div>"
      ],
      "text/plain": [
       "    Id  height\n",
       "0    1     159\n",
       "3    4     162\n",
       "6    7     160\n",
       "9   10     171\n",
       "12  13     173"
      ]
     },
     "metadata": {},
     "output_type": "display_data"
    }
   ],
   "source": [
    "# View sampled data frame\n",
    "display(systematic_sample)"
   ]
  },
  {
   "cell_type": "markdown",
   "metadata": {},
   "source": [
    "### Stratified Sampling"
   ]
  },
  {
   "cell_type": "code",
   "execution_count": 13,
   "metadata": {},
   "outputs": [
    {
     "data": {
      "text/html": [
       "<div>\n",
       "<style scoped>\n",
       "    .dataframe tbody tr th:only-of-type {\n",
       "        vertical-align: middle;\n",
       "    }\n",
       "\n",
       "    .dataframe tbody tr th {\n",
       "        vertical-align: top;\n",
       "    }\n",
       "\n",
       "    .dataframe thead th {\n",
       "        text-align: right;\n",
       "    }\n",
       "</style>\n",
       "<table border=\"1\" class=\"dataframe\">\n",
       "  <thead>\n",
       "    <tr style=\"text-align: right;\">\n",
       "      <th></th>\n",
       "      <th>Name</th>\n",
       "      <th>ID</th>\n",
       "      <th>Grade</th>\n",
       "      <th>Category</th>\n",
       "    </tr>\n",
       "  </thead>\n",
       "  <tbody>\n",
       "    <tr>\n",
       "      <th>0</th>\n",
       "      <td>Lisa</td>\n",
       "      <td>001</td>\n",
       "      <td>A</td>\n",
       "      <td>2</td>\n",
       "    </tr>\n",
       "    <tr>\n",
       "      <th>1</th>\n",
       "      <td>Kate</td>\n",
       "      <td>002</td>\n",
       "      <td>A</td>\n",
       "      <td>3</td>\n",
       "    </tr>\n",
       "    <tr>\n",
       "      <th>2</th>\n",
       "      <td>Ben</td>\n",
       "      <td>003</td>\n",
       "      <td>C</td>\n",
       "      <td>1</td>\n",
       "    </tr>\n",
       "    <tr>\n",
       "      <th>3</th>\n",
       "      <td>Kim</td>\n",
       "      <td>004</td>\n",
       "      <td>B</td>\n",
       "      <td>3</td>\n",
       "    </tr>\n",
       "    <tr>\n",
       "      <th>4</th>\n",
       "      <td>Josh</td>\n",
       "      <td>005</td>\n",
       "      <td>B</td>\n",
       "      <td>2</td>\n",
       "    </tr>\n",
       "    <tr>\n",
       "      <th>5</th>\n",
       "      <td>Alex</td>\n",
       "      <td>006</td>\n",
       "      <td>B</td>\n",
       "      <td>3</td>\n",
       "    </tr>\n",
       "    <tr>\n",
       "      <th>6</th>\n",
       "      <td>Evan</td>\n",
       "      <td>007</td>\n",
       "      <td>C</td>\n",
       "      <td>3</td>\n",
       "    </tr>\n",
       "    <tr>\n",
       "      <th>7</th>\n",
       "      <td>Greg</td>\n",
       "      <td>008</td>\n",
       "      <td>A</td>\n",
       "      <td>1</td>\n",
       "    </tr>\n",
       "    <tr>\n",
       "      <th>8</th>\n",
       "      <td>Sam</td>\n",
       "      <td>009</td>\n",
       "      <td>A</td>\n",
       "      <td>2</td>\n",
       "    </tr>\n",
       "    <tr>\n",
       "      <th>9</th>\n",
       "      <td>Ella</td>\n",
       "      <td>010</td>\n",
       "      <td>A</td>\n",
       "      <td>1</td>\n",
       "    </tr>\n",
       "  </tbody>\n",
       "</table>\n",
       "</div>"
      ],
      "text/plain": [
       "   Name   ID Grade  Category\n",
       "0  Lisa  001     A         2\n",
       "1  Kate  002     A         3\n",
       "2   Ben  003     C         1\n",
       "3   Kim  004     B         3\n",
       "4  Josh  005     B         2\n",
       "5  Alex  006     B         3\n",
       "6  Evan  007     C         3\n",
       "7  Greg  008     A         1\n",
       "8   Sam  009     A         2\n",
       "9  Ella  010     A         1"
      ]
     },
     "execution_count": 13,
     "metadata": {},
     "output_type": "execute_result"
    }
   ],
   "source": [
    "# Create a dictionary of students\n",
    "students = {\n",
    "    'Name': ['Lisa', 'Kate', 'Ben', 'Kim', 'Josh',\n",
    "             'Alex', 'Evan', 'Greg', 'Sam', 'Ella'],\n",
    "    'ID': ['001', '002', '003', '004', '005', '006', \n",
    "           '007', '008', '009', '010'],\n",
    "    'Grade': ['A', 'A', 'C', 'B', 'B', 'B', 'C', \n",
    "              'A', 'A', 'A'],\n",
    "    \n",
    "    'Category': [2, 3, 1, 3, 2, 3, 3, 1, 2, 1]\n",
    "}\n",
    "  \n",
    "# Create dataframe from students dictionary\n",
    "df = pd.DataFrame(students)\n",
    "  \n",
    "# view the dataframe\n",
    "df\n"
   ]
  },
  {
   "cell_type": "code",
   "execution_count": 14,
   "metadata": {},
   "outputs": [
    {
     "data": {
      "text/html": [
       "<div>\n",
       "<style scoped>\n",
       "    .dataframe tbody tr th:only-of-type {\n",
       "        vertical-align: middle;\n",
       "    }\n",
       "\n",
       "    .dataframe tbody tr th {\n",
       "        vertical-align: top;\n",
       "    }\n",
       "\n",
       "    .dataframe thead th {\n",
       "        text-align: right;\n",
       "    }\n",
       "</style>\n",
       "<table border=\"1\" class=\"dataframe\">\n",
       "  <thead>\n",
       "    <tr style=\"text-align: right;\">\n",
       "      <th></th>\n",
       "      <th>Name</th>\n",
       "      <th>ID</th>\n",
       "      <th>Grade</th>\n",
       "      <th>Category</th>\n",
       "    </tr>\n",
       "  </thead>\n",
       "  <tbody>\n",
       "    <tr>\n",
       "      <th>1</th>\n",
       "      <td>Kate</td>\n",
       "      <td>002</td>\n",
       "      <td>A</td>\n",
       "      <td>3</td>\n",
       "    </tr>\n",
       "    <tr>\n",
       "      <th>0</th>\n",
       "      <td>Lisa</td>\n",
       "      <td>001</td>\n",
       "      <td>A</td>\n",
       "      <td>2</td>\n",
       "    </tr>\n",
       "    <tr>\n",
       "      <th>5</th>\n",
       "      <td>Alex</td>\n",
       "      <td>006</td>\n",
       "      <td>B</td>\n",
       "      <td>3</td>\n",
       "    </tr>\n",
       "    <tr>\n",
       "      <th>4</th>\n",
       "      <td>Josh</td>\n",
       "      <td>005</td>\n",
       "      <td>B</td>\n",
       "      <td>2</td>\n",
       "    </tr>\n",
       "    <tr>\n",
       "      <th>6</th>\n",
       "      <td>Evan</td>\n",
       "      <td>007</td>\n",
       "      <td>C</td>\n",
       "      <td>3</td>\n",
       "    </tr>\n",
       "    <tr>\n",
       "      <th>2</th>\n",
       "      <td>Ben</td>\n",
       "      <td>003</td>\n",
       "      <td>C</td>\n",
       "      <td>1</td>\n",
       "    </tr>\n",
       "  </tbody>\n",
       "</table>\n",
       "</div>"
      ],
      "text/plain": [
       "   Name   ID Grade  Category\n",
       "1  Kate  002     A         3\n",
       "0  Lisa  001     A         2\n",
       "5  Alex  006     B         3\n",
       "4  Josh  005     B         2\n",
       "6  Evan  007     C         3\n",
       "2   Ben  003     C         1"
      ]
     },
     "execution_count": 14,
     "metadata": {},
     "output_type": "execute_result"
    }
   ],
   "source": [
    "#Stratified sampling\n",
    "df.groupby('Grade', group_keys=False).apply(lambda x: x.sample(2))"
   ]
  },
  {
   "cell_type": "markdown",
   "metadata": {},
   "source": [
    "### Cluster Sampling"
   ]
  },
  {
   "cell_type": "code",
   "execution_count": 18,
   "metadata": {},
   "outputs": [
    {
     "name": "stdout",
     "output_type": "stream",
     "text": [
      "    employee_id     value\n",
      "0             1 -0.092777\n",
      "1             2  1.203881\n",
      "2             3  0.913312\n",
      "3             4 -2.916899\n",
      "4             5 -0.296683\n",
      "5             6 -0.708969\n",
      "6             7  1.076313\n",
      "7             8 -1.174670\n",
      "8             9 -0.287056\n",
      "9            10 -0.497792\n",
      "10           11 -1.276466\n",
      "11           12 -1.387918\n",
      "12           13 -0.346647\n",
      "13           14 -0.770068\n",
      "14           15 -0.929103\n",
      "15           16 -1.455652\n",
      "16           17  1.378517\n",
      "17           18 -2.527708\n",
      "18           19  0.528548\n",
      "19           20  0.633615\n"
     ]
    }
   ],
   "source": [
    "\n",
    "\n",
    "#creating dictionary of data\n",
    "dic_data = {'employee_id':np.arange(1,21),'value':np.random.randn(20)}\n",
    "\n",
    "# creating DataFrame from dictonary\n",
    "df = pd.DataFrame(dic_data)\n",
    "print(df)\n"
   ]
  },
  {
   "cell_type": "code",
   "execution_count": 19,
   "metadata": {},
   "outputs": [
    {
     "name": "stdout",
     "output_type": "stream",
     "text": [
      "    employee_id     value\n",
      "0             1 -0.092777\n",
      "3             4 -2.916899\n",
      "8             9 -0.287056\n",
      "14           15 -0.929103\n"
     ]
    }
   ],
   "source": [
    "#Using cluster sampling\n",
    "samples = df.sample(4).sort_values(by='employee_id')\n",
    "  \n",
    "# show samples\n",
    "print(samples)\n"
   ]
  },
  {
   "cell_type": "code",
   "execution_count": null,
   "metadata": {},
   "outputs": [],
   "source": []
  }
 ],
 "metadata": {
  "kernelspec": {
   "display_name": "Python 3",
   "language": "python",
   "name": "python3"
  },
  "language_info": {
   "codemirror_mode": {
    "name": "ipython",
    "version": 3
   },
   "file_extension": ".py",
   "mimetype": "text/x-python",
   "name": "python",
   "nbconvert_exporter": "python",
   "pygments_lexer": "ipython3",
   "version": "3.8.5"
  }
 },
 "nbformat": 4,
 "nbformat_minor": 4
}
